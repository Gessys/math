{
  "nbformat": 4,
  "nbformat_minor": 0,
  "metadata": {
    "colab": {
      "name": "math1.ipynb",
      "provenance": [],
      "authorship_tag": "ABX9TyN+ZjskVcx473wJuWECIOzr",
      "include_colab_link": true
    },
    "kernelspec": {
      "name": "python3",
      "display_name": "Python 3"
    },
    "language_info": {
      "name": "python"
    }
  },
  "cells": [
    {
      "cell_type": "markdown",
      "metadata": {
        "id": "view-in-github",
        "colab_type": "text"
      },
      "source": [
        "<a href=\"https://colab.research.google.com/github/Gessys/math/blob/main/math1.ipynb\" target=\"_parent\"><img src=\"https://colab.research.google.com/assets/colab-badge.svg\" alt=\"Open In Colab\"/></a>"
      ]
    },
    {
      "cell_type": "markdown",
      "metadata": {
        "id": "EpdWXpw0Erbq"
      },
      "source": [
        "## フィボナッチの数列(再帰は使わない版)"
      ]
    },
    {
      "cell_type": "code",
      "metadata": {
        "id": "zaUZ8LdVENbg"
      },
      "source": [
        "def makefib(n): # 第n項までを求める\n",
        "  fib = []\n",
        "  for i in range(0, n):\n",
        "    if i == 0 or i == 1:\n",
        "      fib.append(i)\n",
        "    else:\n",
        "      fib.append(fib[i-2] + fib[i-1])\n",
        "  return fib"
      ],
      "execution_count": null,
      "outputs": []
    },
    {
      "cell_type": "code",
      "metadata": {
        "colab": {
          "base_uri": "https://localhost:8080/"
        },
        "id": "aKgCrlI7Eo0F",
        "outputId": "c9068f46-e931-43f9-8e59-9e1affb148eb"
      },
      "source": [
        "makefib(10)"
      ],
      "execution_count": null,
      "outputs": [
        {
          "output_type": "execute_result",
          "data": {
            "text/plain": [
              "[0, 1, 1, 2, 3, 5, 8, 13, 21, 34]"
            ]
          },
          "metadata": {},
          "execution_count": 2
        }
      ]
    },
    {
      "cell_type": "code",
      "metadata": {
        "id": "1mdoacLsFwHF"
      },
      "source": [
        "from math import sqrt\n",
        "def fib(n): # 第n項を求める\n",
        "  answer = (((1+sqrt(5))/2)**n - ((1-sqrt(5))/2)**n) / sqrt(5)\n",
        "  return round(answer) "
      ],
      "execution_count": null,
      "outputs": []
    },
    {
      "cell_type": "code",
      "metadata": {
        "colab": {
          "base_uri": "https://localhost:8080/"
        },
        "id": "vVk0ENkkGZ-e",
        "outputId": "9bad1a95-5088-4481-c793-9dd92a231c50"
      },
      "source": [
        "fib(10)"
      ],
      "execution_count": null,
      "outputs": [
        {
          "output_type": "execute_result",
          "data": {
            "text/plain": [
              "55"
            ]
          },
          "metadata": {},
          "execution_count": 4
        }
      ]
    },
    {
      "cell_type": "markdown",
      "metadata": {
        "id": "Fvu-F0OsE_dy"
      },
      "source": [
        "## ベクトルの内積"
      ]
    },
    {
      "cell_type": "code",
      "metadata": {
        "id": "Lvzheu43EwVz"
      },
      "source": [
        "def inner_product(x, y):\n",
        "  sum = 0\n",
        "  for i in range(0, len(x)):\n",
        "    sum += x[i] * y[i]\n",
        "  return sum"
      ],
      "execution_count": null,
      "outputs": []
    },
    {
      "cell_type": "code",
      "metadata": {
        "colab": {
          "base_uri": "https://localhost:8080/"
        },
        "id": "hhq-1E3IFCuP",
        "outputId": "9a4a4898-3afe-4c4e-9f35-03c64639b251"
      },
      "source": [
        "inner_product([2,3], [4,5])"
      ],
      "execution_count": null,
      "outputs": [
        {
          "output_type": "execute_result",
          "data": {
            "text/plain": [
              "23"
            ]
          },
          "metadata": {},
          "execution_count": 6
        }
      ]
    },
    {
      "cell_type": "code",
      "metadata": {
        "id": "AJZDdpDXFHQe"
      },
      "source": [
        "def inner_product(x,y):\n",
        "  sum = 0\n",
        "  for x_i, y_i in zip(x, y):\n",
        "    sum += x_i * y_i\n",
        "  return sum"
      ],
      "execution_count": null,
      "outputs": []
    },
    {
      "cell_type": "code",
      "metadata": {
        "colab": {
          "base_uri": "https://localhost:8080/"
        },
        "id": "m04q01wBFqLY",
        "outputId": "4cbe3a72-4b5c-4325-9eac-e596bb805b19"
      },
      "source": [
        "inner_product([2,3], [4,5])"
      ],
      "execution_count": null,
      "outputs": [
        {
          "output_type": "execute_result",
          "data": {
            "text/plain": [
              "23"
            ]
          },
          "metadata": {},
          "execution_count": 8
        }
      ]
    },
    {
      "cell_type": "code",
      "metadata": {
        "id": "tGSm7MIBFunH"
      },
      "source": [
        ""
      ],
      "execution_count": null,
      "outputs": []
    }
  ]
}